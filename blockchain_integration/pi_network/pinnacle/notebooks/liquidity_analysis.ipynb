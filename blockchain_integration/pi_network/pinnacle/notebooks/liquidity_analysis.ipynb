# Liquidity Analysis Notebook

import pandas as pd
import matplotlib.pyplot as plt
import seaborn as sns
from pinnacle.data import load_liquidity_data

# Load liquidity data
liquidity_data = load_liquidity_data()

# Data cleaning and preprocessing
liquidity_data['timestamp'] = pd.to_datetime(liquidity_data['timestamp'], unit='s')
liquidity_data.set_index('timestamp', inplace=True)

# Visualize liquidity over time
plt.figure(figsize=(12, 6))
sns.lineplot(x=liquidity_data.index, y=liquidity_data['available_balance'])
plt.title('Liquidity Over Time')
plt.xlabel('Timestamp')
plt.ylabel('Available Balance')
plt.show()

# Analyze liquidity by asset
asset_liquidity = liquidity_data.groupby('asset')['available_balance'].mean()
print('Average Liquidity by Asset:')
print(asset_liquidity)

# Analyze liquidity by liquidity provider
provider_liquidity = liquidity_data.groupby('liquidity_provider')['available_balance'].mean()
print('Average Liquidity by Liquidity Provider:')
print(provider_liquidity)

# Correlation analysis
corr_matrix = liquidity_data.corr()
print('Correlation Matrix:')
print(corr_matrix)

# Heatmap visualization
plt.figure(figsize=(10, 8))
sns.heatmap(corr_matrix, annot=True, cmap='coolwarm')
plt.title('Correlation Heatmap')
plt.show()
