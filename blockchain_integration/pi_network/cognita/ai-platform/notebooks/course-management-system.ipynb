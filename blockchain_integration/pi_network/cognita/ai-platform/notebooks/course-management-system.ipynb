import os
import pandas as pd
import numpy as np
import matplotlib.pyplot as plt
from sklearn.model_selection import train_test_split
from sklearn.ensemble import RandomForestClassifier
from sklearn.metrics import accuracy_score, classification_report
from sklearn.preprocessing import StandardScaler
from sklearn.decomposition import PCA
from sklearn.manifold import TSNE
from sklearn.svm import SVC
from sklearn.naive_bayes import GaussianNB
from sklearn.discriminant_analysis import LinearDiscriminantAnalysis
from sklearn.neighbors import KNeighborsClassifier
from sklearn.tree import DecisionTreeClassifier
from sklearn.ensemble import GradientBoostingClassifier
from sklearn.ensemble import AdaBoostClassifier
from xgboost import XGBClassifier
from catboost import CatBoostClassifier
from lightgbm import LGBMClassifier
from sklearn.model_selection import GridSearchCV
from sklearn.pipeline import Pipeline

# Load dataset
df = pd.read_csv('course_data.csv')

# Preprocess data
X = df.drop('target', axis=1)
y = df['target']

# Split data into training and testing sets
X_train, X_test, y_train, y_test = train_test_split(X, y, test_size=0.2, random_state=42)

# Scale data
scaler = StandardScaler()
X_train_scaled = scaler.fit_transform(X_train)
X_test_scaled = scaler.transform(X_test)

# Apply PCA
pca = PCA(n_components=0.95)
X_train_pca = pca.fit_transform(X_train_scaled)
X_test_pca = pca.transform(X_test_scaled)

# Apply t-SNE
tsne = TSNE(n_components=2, random_state=42)
X_train_tsne = tsne.fit_transform(X_train_pca)
X_test_tsne = tsne.transform(X_test_pca)

# Define models
models = [
    RandomForestClassifier(),
    SVC(),
    GaussianNB(),
    LinearDiscriminantAnalysis(),
    KNeighborsClassifier(),
    DecisionTreeClassifier(),
    GradientBoostingClassifier(),
    AdaBoostClassifier(),
    XGBClassifier(),
    CatBoostClassifier(),
    LGBMClassifier(),
]

# Define hyperparameter tuning space
param_grid = {
    'random_forest': {
        'n_estimators': [100, 200, 300],
        'max_depth': [None, 5, 10],
    },
    'vm': {
        'C': [1, 10, 100],
        'kernel': ['linear', 'rbf', 'poly'],
    },
    'gaussian_nb': {
        'var_smoothing': [1e-09, 1e-08, 1e-07],
    },
    'lda': {
        'n_components': [2, 5, 10],
    },
    'knn': {
        'n_neighbors': [5, 10, 15],
    },
    'decision_tree': {
        'max_depth': [None, 5, 10],
    },
    'gradient_boosting': {
        'n_estimators': [100, 200, 300],
        'learning_rate': [0.1, 0.5, 1],
    },
    'ada_boost': {
        'n_estimators': [100, 200, 300],
        'learning_rate': [0.1, 0.5, 1],
    },
    'xgboost': {
        'n_estimators': [100, 200, 300],
        'learning_rate': [0.1, 0.5, 1],
    },
    'catboost': {
        'n_estimators': [100, 200, 300],
        'learning_rate': [0.1, 0.5, 1],
    },
    'lightgbm': {
        'n_estimators': [100, 200, 300],
        'learning_rate': [0.1, 0.5, 1],
    },
}

# Perform hyperparameter tuning
results = []
for model in models:
    pipeline = Pipeline([
        ('scaler', StandardScaler()),
        ('pca', PCA(n_components=0.95)),
        ('tsne', TSNE(n_components=2, random_state=42)),
        ('model', model),
    ])
    grid_search = GridSearchCV(pipeline, param_grid[model.__class__.__name__.lower()], cv=5, scoring='accuracy')
    grid_search.fit(X_train_tsne, y_train)
    results.append((model.__class__.__name__, grid_search.best_score_, grid_search.best_params_))

# Print results
for result in results:
    print(f'Model: {result[0]}, Accuracy: {result[1]:.3f}, Best Parameters: {result[2]}')
